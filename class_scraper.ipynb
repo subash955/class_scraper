{
 "cells": [
  {
   "cell_type": "code",
   "execution_count": null,
   "metadata": {},
   "outputs": [],
   "source": [
    "from selenium import webdriver\n",
    "from selenium.webdriver.common.keys import Keys\n",
    "import time\n",
    "from selenium.webdriver.support.ui import Select\n",
    "import requests, bs4\n",
    "import smtplib"
   ]
  },
  {
   "cell_type": "code",
   "execution_count": null,
   "metadata": {},
   "outputs": [],
   "source": [
    "r = requests.get('https://www.registrar.ucla.edu/Faculty-Staff/Courses-and-Programs/Department-and-Subject-Area-Codes')\n",
    "r.raise_for_status()\n",
    "y = bs4.BeautifulSoup(r.text)\n",
    "z = y.select('div table tr td')\n",
    "table = [''.join(x.findAll(text=True)) for x in z]\n",
    "for i in range(len(table)):\n",
    "    if i % 6 == 4 or i % 6 == 5:\n",
    "        table[i] = 'x'\n",
    "while 'x' in table:\n",
    "    table.remove('x')\n",
    "for i in range(len(table)):\n",
    "    if i % 4 == 0 or i % 4 == 1:\n",
    "        table[i] = 'x'\n",
    "while 'x' in table:\n",
    "    table.remove('x')\n",
    "subject_areas = [table[i] for i in range (len(table)) if i%2 == 0]\n",
    "code = [table[i] for i in range (len(table)) if i%2 == 1]\n",
    "subcode = list(zip(subject_areas, code))\n",
    "subcode = [(x.replace('\\n',''),y.rstrip()) for (x,y) in subcode]"
   ]
  },
  {
   "cell_type": "markdown",
   "metadata": {},
   "source": []
  },
  {
   "cell_type": "markdown",
   "metadata": {},
   "source": [
    "def showsections():\n",
    "    b = browser.find_elements_by_class_name('icon-unlock')\n",
    "    print(f'Number of Open Sections: {len(b)}')"
   ]
  },
  {
   "cell_type": "code",
   "execution_count": null,
   "metadata": {},
   "outputs": [],
   "source": [
    "def is_int(val):\n",
    "    try:\n",
    "        int(val)\n",
    "        return True\n",
    "    except:\n",
    "        return False"
   ]
  },
  {
   "cell_type": "code",
   "execution_count": null,
   "metadata": {},
   "outputs": [],
   "source": [
    "def getinfo(lec):\n",
    "        a = browser.find_elements_by_class_name('statusColumn')\n",
    "        a = [x.text for x in a]\n",
    "        if a[lec][0] == 'W':\n",
    "            c = browser.find_elements_by_class_name('waitlistColumn')\n",
    "            print(f'Waitlisted, Class Full {c[lec].text}')\n",
    "        if a[lec][0] == 'C':\n",
    "            print('Closed, Class Full')\n",
    "        if a[lec][0] == 'O':\n",
    "            b = a[lec].split('d')\n",
    "            print(f'Open, {b[1]}')\n",
    "       \n",
    "        \n",
    "            "
   ]
  },
  {
   "cell_type": "code",
   "execution_count": null,
   "metadata": {},
   "outputs": [],
   "source": [
    "def showsections():\n",
    "    a = browser.find_elements_by_class_name('sectionColumn')\n",
    "    b = browser.find_elements_by_class_name('icon-unlock')\n",
    "    print(f'Number of Sections: {len(a)-1}')\n",
    "    print(f'Number of Open Sections: {len(b)}')"
   ]
  },
  {
   "cell_type": "code",
   "execution_count": null,
   "metadata": {},
   "outputs": [],
   "source": [
    "#enter email here\n",
    "\n",
    "email = ''"
   ]
  },
  {
   "cell_type": "code",
   "execution_count": null,
   "metadata": {},
   "outputs": [],
   "source": [
    "def notify(lec):\n",
    "    a = browser.find_elements_by_class_name('statusColumn')\n",
    "    a = [x.text for x in a]\n",
    "    if a[lec][0] == 'W':\n",
    "            return False\n",
    "    if a[lec][0] == 'C':\n",
    "            return False\n",
    "    if a[lec][0] == 'O':\n",
    "            return True"
   ]
  },
  {
   "cell_type": "code",
   "execution_count": null,
   "metadata": {},
   "outputs": [],
   "source": [
    "# def mail():\n",
    "#     passwrod = var\n",
    "#     gmail = smtplib.SMTP('smtp.gmail.com', '587')\n",
    "#     gmail.ehlo()\n",
    "#     gmail.starttls()\n",
    "#     gmail.login(email, passwrod)\n",
    "#     gmail.sendmail('to, from, \"Subject: none\\nYour class has now opened!\")"
   ]
  },
  {
   "cell_type": "code",
   "execution_count": null,
   "metadata": {
    "scrolled": true
   },
   "outputs": [],
   "source": [
    "#var = input('enter password')"
   ]
  },
  {
   "cell_type": "code",
   "execution_count": null,
   "metadata": {},
   "outputs": [],
   "source": [
    "def getprofessor(lec):\n",
    "    a = browser.find_elements_by_class_name('instructorColumn')\n",
    "    a = [x.text for x in a] \n",
    "    print(f'Professor: {a[lec]}')"
   ]
  },
  {
   "cell_type": "code",
   "execution_count": null,
   "metadata": {},
   "outputs": [],
   "source": [
    "def getdt(lec):\n",
    "    #a = browser.find_elements_by_class_name('dayColumn')\n",
    "    #a = [x.text for x in a] \n",
    "    b = browser.find_elements_by_class_name('timeColumn')\n",
    "    b = [x.text for x in b] \n",
    "   #print(f\"days {a[lec]}, time: {b[lec]}\")\n",
    "    #return b[2]\n",
    "    b = [x.replace('\\n','') for x in b]\n",
    "    b = [x.split(' ') for x in b]\n",
    "    for x in b:\n",
    "        while '' in x:\n",
    "            x.remove('')\n",
    "    print(f\"Days: {b[lec][0]}, Times: {b[lec][1]}\")\n",
    "    "
   ]
  },
  {
   "cell_type": "code",
   "execution_count": null,
   "metadata": {},
   "outputs": [],
   "source": [
    "def showsections():\n",
    "    b = browser.find_elements_by_class_name('icon-unlock')\n",
    "    print(f'Number of Open Sections: {len(b)}')"
   ]
  },
  {
   "cell_type": "code",
   "execution_count": null,
   "metadata": {
    "scrolled": false
   },
   "outputs": [],
   "source": [
    "print('These are the index numbers of the subjects: ')\n",
    "for i in range (len(subcode)):\n",
    "    print(f'{i}: {subcode[i][0]}')\n",
    "num = int(input('Which number would you like info on? '))\n",
    "class_code = input('Which class would you like info on? ')\n",
    "browser = webdriver.Safari()\n",
    "browser.get('https://sa.ucla.edu/ro/public/soc')\n",
    "subject = browser.find_element_by_id('select_filter_subject')\n",
    "subject.click()\n",
    "subject.send_keys(f'{subcode[num][0]} ({subcode[num][1]})')\n",
    "time.sleep(1)\n",
    "subject.send_keys(Keys.RETURN)\n",
    "time.sleep(1)\n",
    "subject.send_keys(Keys.RETURN)\n",
    "browser.find_element_by_xpath('//*[@id=\"btn_go\"]').click\n",
    "i = 0\n",
    "time.sleep(7)\n",
    "while(i<5):\n",
    "    try:\n",
    "        time.sleep(5)\n",
    "        if is_int(class_code[:3]):\n",
    "            if int(class_code[:3]) > 100:\n",
    "                browser.find_element_by_id(f'{subcode[num][1]}' + '0' + f'{class_code}' + '-title').click()\n",
    "            else:\n",
    "                browser.find_element_by_id(f'{subcode[num][1]}' + '00' + f'{class_code}' + '-title').click()\n",
    "                \n",
    "        elif is_int(class_code[:2]):\n",
    "            if int(class_code[:2]) > 10:\n",
    "                browser.find_element_by_id(f'{subcode[num][1]}' + '00' + f'{class_code}' + '-title').click()\n",
    "            else:\n",
    "                browser.find_element_by_id(f'{subcode[num][1]}' + '0' + f'{class_code}' + '-title').click()\n",
    "                \n",
    "        elif is_int(class_code[0]):\n",
    "            browser.find_element_by_id(f'{subcode[num][1]}' + '0' + f'{class_code}' + '-title').click()\n",
    "        break\n",
    "        \n",
    "    except:\n",
    "            browser.find_element_by_xpath('//*[@id=\"divPagination\"]/div/div/div[3]/span').click()\n",
    "            i +=1\n",
    "time.sleep(1)\n",
    "showsections()\n",
    "lec = int(input('Which lecture would you like information on? '))\n",
    "while(1):\n",
    "    c = input(\"What would you like to know?\\nStatus: 1\\nDay and Time: 2\\nProfessor: 3\\nQuit: q\\n\")\n",
    "    if c == '1':\n",
    "        getinfo(lec)\n",
    "    elif c=='2':\n",
    "        getdt(lec)\n",
    "    elif c =='3':\n",
    "        getprofessor(lec)\n",
    "    else: \n",
    "        break"
   ]
  },
  {
   "cell_type": "code",
   "execution_count": null,
   "metadata": {},
   "outputs": [],
   "source": []
  },
  {
   "cell_type": "code",
   "execution_count": null,
   "metadata": {},
   "outputs": [],
   "source": []
  }
 ],
 "metadata": {
  "kernelspec": {
   "display_name": "Python 3",
   "language": "python",
   "name": "python3"
  },
  "language_info": {
   "codemirror_mode": {
    "name": "ipython",
    "version": 3
   },
   "file_extension": ".py",
   "mimetype": "text/x-python",
   "name": "python",
   "nbconvert_exporter": "python",
   "pygments_lexer": "ipython3",
   "version": "3.6.5"
  }
 },
 "nbformat": 4,
 "nbformat_minor": 2
}
